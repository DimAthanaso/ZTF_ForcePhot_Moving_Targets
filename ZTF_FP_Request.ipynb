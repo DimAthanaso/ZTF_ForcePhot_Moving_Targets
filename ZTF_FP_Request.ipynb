{
 "cells": [
  {
   "cell_type": "markdown",
   "source": [
    "# ZTF Sparse photometry for Asteroids\n",
    "\n",
    "This notebook uses ZTF Forced Photometry Service, whose manual can be found here:\n",
    "<https://irsa.ipac.caltech.edu/data/ZTF/docs/ztf_forced_photometry.pdf>"
   ],
   "metadata": {
    "collapsed": false
   }
  },
  {
   "cell_type": "markdown",
   "source": [
    "### Useful packages"
   ],
   "metadata": {
    "collapsed": false
   }
  },
  {
   "cell_type": "code",
   "execution_count": null,
   "outputs": [],
   "source": [
    "import requests\n",
    "import pandas as pd\n",
    "from jdcal import MJD_0, jd2gcal\n",
    "from IPython.display import clear_output\n",
    "from os.path import exists\n",
    "import json"
   ],
   "metadata": {
    "collapsed": false
   }
  },
  {
   "cell_type": "markdown",
   "source": [
    "## Asteroid Info and Datasets"
   ],
   "metadata": {
    "collapsed": false
   }
  },
  {
   "cell_type": "code",
   "execution_count": null,
   "outputs": [],
   "source": [
    "#Write only the id of asteroid:\n",
    "asteroid_id=2616\n",
    "\n",
    "#Import the ZTF file corresponds to the above asteroid:\n",
    "ZTF_file='MOST/'+str(asteroid_id)+'_ZTF.tbl'\n",
    "\n",
    "#Import Time Range\n",
    "#For ZTF: Time Range = 2017-10-15 to present\n",
    "start_date=\"2017-10-15\"\n",
    "end_date=\"2025-04-11\""
   ],
   "metadata": {
    "collapsed": false
   }
  },
  {
   "cell_type": "markdown",
   "source": [
    "### Download and read file from MOST\n",
    "\n",
    "The search of ZTF images, that contain the selected asteroid, was performed using the Moving Object Search Tool (MOST). This tool is available at: <https://irsa.ipac.caltech.edu/applications/MOST/>\n",
    "The downloaded file should have name; <asteroid_id>_ZTF.tbl and be placed in; MOST folder."
   ],
   "metadata": {
    "collapsed": false
   }
  },
  {
   "cell_type": "code",
   "execution_count": null,
   "outputs": [],
   "source": [
    "if exists(ZTF_file):\n",
    "    print(\"Output file for this asteroid from the MOST already exists!\")\n",
    "else:\n",
    "    MOST_r = requests.get(\"https://irsa.ipac.caltech.edu/cgi-bin/MOST/nph-most?catalog=ztf&input_type=naifid_input&obj_naifid=\"+str(20000000+asteroid_id)+\"&obs_begin=\"+start_date+\"&obs_end=\"+end_date+\"&output_mode=Brief\")\n",
    "    MOST_a=MOST_r.text\n",
    "    MOST_url=MOST_a.partition('\\n')[0].split('=', 1)[1].strip('\\\"').replace(' \"','')\n",
    "    print(\"The MOST request is successful!\")"
   ],
   "metadata": {
    "collapsed": false
   }
  },
  {
   "cell_type": "code",
   "execution_count": null,
   "outputs": [],
   "source": [
    "if exists(ZTF_file):\n",
    "    print(\"Output file for this asteroid from the MOST already exists!\")\n",
    "else:\n",
    "    MOST_s=requests.get(MOST_url+\"/results.tbl\")\n",
    "    with open(ZTF_file, 'w') as file:\n",
    "        file.write(MOST_s.text)\n",
    "    print(\"The MOST output file was saved!\")"
   ],
   "metadata": {
    "collapsed": false
   }
  },
  {
   "cell_type": "code",
   "execution_count": null,
   "outputs": [],
   "source": [
    "if exists(ZTF_file):\n",
    "    data=pd.read_table(ZTF_file, header=None, skiprows=[14,15,16], comment='\\\\',  delim_whitespace=True, names=['Image_ID', 'date_obs', 'time_obs', 'mjd_obs', 'ra_obj', 'dec_obj', 'sun_dist', 'geo_dist', 'dist_ctr', 'phase', 'vmag', 'image_url', 'postcard_url', 'region_file'])\n",
    "    dataR=data[data['Image_ID'].str.contains(\"_zr_\")]\n",
    "else:\n",
    "    print(\"No MOST output file! \\n You must follow the above instructions.\")\n",
    "dataR"
   ],
   "metadata": {
    "collapsed": false
   }
  },
  {
   "cell_type": "markdown",
   "source": [
    "### ZTF Forced Photometry Service Request\n",
    "The following command will request a forced photometry for the asteroid with individual submissions. Each individual submission consists of supplying a single R.A., Dec. position, a time-range of interest, and your credentials. You can submit requests using also the graphical user interface (GUI) form:\n",
    "<https://ztfweb.ipac.caltech.edu/cgi-bin/requestForcedPhotometry.cgi>\n",
    "The username, password for initiating the GUI service is: **ztffps**, **dontgocrazy!**\n",
    "\n",
    "These credentials are fixed and should not be confused with your personal password, which you should have received by registering. The requestor’s email address and password you supply on the form are precisely those you registered with.\n",
    "\n",
    "**It takes some time if the dataset is large! It will not duplicate the job if it has been done before.**"
   ],
   "metadata": {
    "collapsed": false
   }
  },
  {
   "cell_type": "code",
   "execution_count": null,
   "outputs": [],
   "source": [
    "#Insert here your personal credentials\n",
    "email='user@email.com'\n",
    "userpass='yourpassword'"
   ],
   "metadata": {
    "collapsed": false
   }
  },
  {
   "cell_type": "code",
   "execution_count": null,
   "outputs": [],
   "source": [
    "#Run it only ones!\n",
    "if exists('ZTF/ForcedPhot/'+str(asteroid_id)+'_ZTF_FP.txt'):\n",
    "    print(\"A file with Forced Photometry data exists!\")\n",
    "else:\n",
    "    for i in dataR.index:\n",
    "        clear_output(wait=True)\n",
    "        print(\"Progress \"+str(i)+\"/\"+str(max(dataR.index)))\n",
    "\n",
    "        requests.get('https://ztfweb.ipac.caltech.edu/cgi-bin/requestForcedPhotometry.cgi', auth=('ztffps', 'dontgocrazy!'), params={'ra': str(dataR['ra_obj'][i]), 'dec': str(dataR['dec_obj'][i]), 'jdstart': str(dataR['mjd_obs'][i]+MJD_0), 'jdend': str(dataR['mjd_obs'][i]+MJD_0), 'email': email, 'userpass': userpass})\n",
    "\n",
    "    clear_output(wait=True)\n",
    "    print(\"Done!\")"
   ],
   "metadata": {
    "collapsed": false
   }
  },
  {
   "cell_type": "markdown",
   "source": [
    "### Now, you have to wait...\n",
    "\n",
    "### Check the status or history of your submissions\n",
    "Now you have to check your email. You will receive an email from ZTF Forced Photometry service for each submission.\n",
    "\n",
    "You can check the status or history of your submissions using the utility:\n",
    "<https://ztfweb.ipac.caltech.edu/cgi-bin/getForcedPhotometryRequests.cgi>\n",
    "The username, password for initiating this service is also: **ztffps**, **dontgocrazy!**\n",
    "\n",
    "Due to possible excessive database loads, the job queue is refreshed every hour. It is refreshed on the hour according to wall clock. Therefore, the job status you see could be up to one hour old. Furthermore, only requests submitted within the last month can be accessed.\n",
    "\n",
    "### Save and read the result at once\n",
    "**IMPORTANT: Go to the history of your submission copy the cells of your last submissions and paste them to a file with name** <asteroid_id>_ZTF_FP.txt in; ForcedPhot folder.\n",
    "**Then you can run ZTF_photometry.inyb**\n",
    "\n",
    "\n",
    "**Note:** Be aware that you have to wait 1 hour in order to see your full status of your history!\n",
    "\n",
    "Then the following commands will read the file and retrieve the data.\n",
    "\n",
    "**Exit and warning codes (the \"procstatus\" column)**\n",
    "Overall exit and warning codes from execution of your request are provided in the log file that accompanies the output table. Processing status codes are also provided on a per-epoch basis. This is the procstatus column in the output table. These codes are defined below.\n",
    "- 0 => Successful execution\n",
    "- 56 => One or more epochs have photometry measurements that may be impacted by bad (including NaN'd) pixels\n",
    "- 57 => One or more epochs had no reference image catalog source falling with 5 arcsec\n",
    "- 58 => One or more epochs had a reference image PSF-catalog that does not exist in the archive\n",
    "- 59 => One or more epochs may have suspect photometric uncertainties due to early creation date of difference image in production\n",
    "- 60 => One or more epochs had upsampled diff-image PSF dimensions that were not odd integers\n",
    "- 61 => One or more epochs had diff-image cutouts that were off the image or too close to an edge\n",
    "- 62 => Requested start JD was before official survey start date [3/17/18] and was reset to 2018-03-17T00:00:00.0 UT\n",
    "- 63 => No records (epochs) returned by database query\n",
    "- 64 => Catastrophic error (see log output)\n",
    "- 65 => Requested end JD is before official survey start date [3/17/18]\n",
    "- 255 => Database connection or query execution error (see log output)"
   ],
   "metadata": {
    "collapsed": false
   }
  }
 ],
 "metadata": {
  "kernelspec": {
   "display_name": "Python 3",
   "language": "python",
   "name": "python3"
  },
  "language_info": {
   "codemirror_mode": {
    "name": "ipython",
    "version": 2
   },
   "file_extension": ".py",
   "mimetype": "text/x-python",
   "name": "python",
   "nbconvert_exporter": "python",
   "pygments_lexer": "ipython2",
   "version": "2.7.6"
  }
 },
 "nbformat": 4,
 "nbformat_minor": 0
}
