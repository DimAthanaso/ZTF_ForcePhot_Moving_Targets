{
 "cells": [
  {
   "cell_type": "markdown",
   "source": [
    "# ZTF Sparse photometry for Asteroids\n",
    "\n",
    "**IMPORTANT: In order to run this notebook you must firstly run the Asteroid_ZTF_FP_Request.ipynb**\n",
    "\n",
    "This notebook uses data from ZTF Forced Photometry Service, whose manual can be found here:\n",
    "<https://irsa.ipac.caltech.edu/data/ZTF/docs/ztf_forced_photometry.pdf>"
   ],
   "metadata": {
    "collapsed": false
   }
  },
  {
   "cell_type": "markdown",
   "source": [
    "### Useful packages"
   ],
   "metadata": {
    "collapsed": false
   }
  },
  {
   "cell_type": "code",
   "execution_count": null,
   "outputs": [],
   "source": [
    "import requests\n",
    "import pandas as pd\n",
    "import numpy as np\n",
    "import matplotlib.pyplot as plt\n",
    "import matplotlib.ticker as mtick\n",
    "import math\n",
    "from jdcal import MJD_0, jd2gcal\n",
    "import io\n",
    "from IPython.display import clear_output\n",
    "from scipy.optimize import curve_fit\n",
    "from astroquery.jplhorizons import Horizons\n",
    "import astrobase_custom as abc\n",
    "from os.path import exists"
   ],
   "metadata": {
    "collapsed": false
   }
  },
  {
   "cell_type": "markdown",
   "source": [
    "## Asteroid Info and Datasets"
   ],
   "metadata": {
    "collapsed": false
   }
  },
  {
   "cell_type": "code",
   "execution_count": null,
   "outputs": [],
   "source": [
    "#Write only the id of asteroid:\n",
    "asteroid_id=4760\n",
    "\n",
    "#Write the full name of asteroid:\n",
    "asteroid_name='4760 Jia-xiang (1981 GN1)'\n",
    "\n",
    "#Import the ZTF file corresponds to the above asteroid:\n",
    "ZTF_file='ZTF/MOST/'+str(asteroid_id)+'_ZTF.tbl'\n",
    "\n",
    "#Would you like to save the figures? (True or False)\n",
    "SaveFigs=True\n",
    "\n",
    "#Would you like to save the final files? (True or False)\n",
    "SaveFiles=True"
   ],
   "metadata": {
    "collapsed": false
   }
  },
  {
   "cell_type": "markdown",
   "source": [
    "### Read output file from MOST\n",
    "\n",
    "The search of ZTF images, that contain the selected asteroid, was performed using the Moving Object Search Tool (MOST). This tool is available at: <https://irsa.ipac.caltech.edu/applications/MOST/>\n",
    "The downloaded file should have name; <asteroid_id>_ZTF.tbl and be placed in; MOST folder."
   ],
   "metadata": {
    "collapsed": false
   }
  },
  {
   "cell_type": "code",
   "execution_count": null,
   "outputs": [],
   "source": [
    "if exists(ZTF_file):\n",
    "    data=pd.read_table(ZTF_file, header=None, skiprows=[14,15,16], comment='\\\\',  delim_whitespace=True, names=['Image_ID', 'date_obs', 'time_obs', 'mjd_obs', 'ra_obj', 'dec_obj', 'sun_dist', 'geo_dist', 'dist_ctr', 'phase', 'vmag', 'image_url', 'postcard_url', 'region_file'])\n",
    "    dataR=data[data['Image_ID'].str.contains(\"_zr_\")]\n",
    "else:\n",
    "    print(\"No ZTF data file! \\n You must follow the above instructions.\")\n",
    "\n",
    "dataR"
   ],
   "metadata": {
    "collapsed": false
   }
  },
  {
   "cell_type": "code",
   "execution_count": null,
   "outputs": [],
   "source": [
    "fig1 = plt.figure(figsize=[15,4])\n",
    "\n",
    "cm = plt.cm = plt.colormaps['plasma']\n",
    "\n",
    "plt.scatter(dataR['phase'], dataR['vmag'], c=dataR['mjd_obs'], s=10, cmap=cm)\n",
    "\n",
    "plt.title(\"Phase curve of \" + asteroid_name + ' from ZTF (r filter) data')\n",
    "plt.xlabel(\"α (deg)\")\n",
    "plt.ylabel(\"V Magnitude\")\n",
    "plt.xlim(0,30)\n",
    "plt.ylim(int(min(dataR['vmag'])),math.ceil(max(dataR['vmag'])))\n",
    "plt.colorbar(label='MJD', format=mtick.FuncFormatter(lambda x, pos: '%.0f'%x))\n",
    "plt.clim(int(min(dataR['mjd_obs'])/100)*100,math.ceil(max(dataR['mjd_obs'])/100)*100)\n",
    "plt.gca().invert_yaxis()\n",
    "\n",
    "if SaveFigs: plt.savefig('ZTF/Figures/'+str(asteroid_id)+'_fig_1.png', bbox_inches='tight')"
   ],
   "metadata": {
    "collapsed": false
   }
  },
  {
   "cell_type": "markdown",
   "source": [
    "### Data from ZTF Forced Photometry Service\n",
    "**Check the status or history of your submissions**\n",
    "Now you have to check your email. You will receive an email from ZTF Forced Photometry service for each submission.\n",
    "\n",
    "You can check the status or history of your submissions using the utility:\n",
    "<https://ztfweb.ipac.caltech.edu/cgi-bin/getForcedPhotometryRequests.cgi>\n",
    "The username, password for initiating this service is also: **ztffps**, **dontgocrazy!**\n",
    "\n",
    "Due to possible excessive database loads, the job queue is refreshed every hour. It is refreshed on the hour according to wall clock.\n",
    "Go to the history of your submission copy the cells of your last submissions and paste them to a file with name <asteroid_id>_ZTF_FP.txt in; ForcedPhot folder.\n",
    "\n",
    "**Note: Be aware that you have to wait 1 hour in order to see your full status of your history!**\n",
    "\n",
    "Then the following commands will read the file and retrieve the data.\n",
    "\n",
    "**Exit and warning codes (the \"procstatus\" column)**\n",
    "Overall exit and warning codes from execution of your request are provided in the log file that accompanies the output table. Processing status codes are also provided on a per-epoch basis. This is the procstatus column in the output table. These codes are defined below.\n",
    "- 0 => Successful execution\n",
    "- 56 => One or more epochs have photometry measurements that may be impacted by bad (including NaN'd) pixels\n",
    "- 57 => One or more epochs had no reference image catalog source falling with 5 arcsec\n",
    "- 58 => One or more epochs had a reference image PSF-catalog that does not exist in the archive\n",
    "- 59 => One or more epochs may have suspect photometric uncertainties due to early creation date of difference image in production\n",
    "- 60 => One or more epochs had upsampled diff-image PSF dimensions that were not odd integers\n",
    "- 61 => One or more epochs had diff-image cutouts that were off the image or too close to an edge\n",
    "- 62 => Requested start JD was before official survey start date [3/17/18] and was reset to 2018-03-17T00:00:00.0 UT\n",
    "- 63 => No records (epochs) returned by database query\n",
    "- 64 => Catastrophic error (see log output)\n",
    "- 65 => Requested end JD is before official survey start date [3/17/18]\n",
    "- 255 => Database connection or query execution error (see log output)"
   ],
   "metadata": {
    "collapsed": false
   }
  },
  {
   "cell_type": "code",
   "execution_count": null,
   "outputs": [],
   "source": [
    "results=pd.read_table('ZTF/ForcedPhot/'+str(asteroid_id)+'_ZTF_FP.txt', header=None, comment='#',  delim_whitespace=True, names=['reqId', 'ra', 'dec', 'startJD', 'endJD', 'created_date', 'created_time', 'started_date', 'started_time', 'ended_date', 'ended_time', 'machine', 'exitcode', 'lightcurve'])\n",
    "results"
   ],
   "metadata": {
    "collapsed": false
   }
  },
  {
   "cell_type": "code",
   "execution_count": null,
   "outputs": [],
   "source": [
    "#Run it only ones, if you have select the option of saving files.\n",
    "if exists(\"ZTF/ForcedPhot/\"+str(asteroid_id)+\"_FP_data.csv\"):\n",
    "    print(\"ZTF Forced Photometry data file exists!\")\n",
    "    finaldata=pd.read_csv(\"ZTF/ForcedPhot/\"+str(asteroid_id)+\"_FP_data.csv\")\n",
    "\n",
    "elif exists('ZTF/ForcedPhot/'+str(asteroid_id)+'_ZTF_FP.txt'):\n",
    "    c=0\n",
    "    for i in results.index:\n",
    "        clear_output(wait=True)\n",
    "        print(\"Progress \"+str(i)+\"/\"+str(max(results.index)))\n",
    "        x=requests.get('https://ztfweb.ipac.caltech.edu'+results[\"lightcurve\"][i], auth=('ztffps', 'dontgocrazy!'))\n",
    "        if c==0 and x.text!='':\n",
    "            finaldata=pd.read_table(io.StringIO(x.text), sep=' ', comment='#', skipinitialspace=True)\n",
    "            finaldata.columns = finaldata.columns.str.replace('[,]', '', regex=True)\n",
    "            c=1\n",
    "        elif x.text!='':\n",
    "            singledata=pd.read_table(io.StringIO(x.text), sep=' ', comment='#', skipinitialspace=True)\n",
    "            singledata.columns = finaldata.columns.str.replace('[,]', '', regex=True)\n",
    "            finaldata=pd.concat([finaldata,singledata])\n",
    "            del singledata\n",
    "\n",
    "    clear_output(wait=True)\n",
    "    print(\"Done!\")\n",
    "    finaldata.sort_values('jd')\n",
    "    if SaveFiles: finaldata.to_csv(\"ZTF/ForcedPhot/\"+str(asteroid_id)+\"_FP_data.csv\", index=False)\n",
    "else:\n",
    "    print(\"No ZTF Forced Photometry file exists!\")\n",
    "\n",
    "finaldata"
   ],
   "metadata": {
    "collapsed": false
   }
  },
  {
   "cell_type": "code",
   "execution_count": null,
   "outputs": [],
   "source": [
    "print(\"Exit codes:\")\n",
    "finaldata['procstatus'].value_counts()"
   ],
   "metadata": {
    "collapsed": false
   }
  },
  {
   "cell_type": "markdown",
   "source": [
    "### Remove data with unkown flux and zero point\n",
    "Remove rows with NaN values of 'forcediffimflux' and 'zpdiff'"
   ],
   "metadata": {
    "collapsed": false
   }
  },
  {
   "cell_type": "code",
   "execution_count": null,
   "outputs": [],
   "source": [
    "cleardata=finaldata.dropna(subset=['forcediffimflux', 'zpdiff']).sort_values(by='jd',ignore_index=True)"
   ],
   "metadata": {
    "collapsed": false
   }
  },
  {
   "cell_type": "code",
   "execution_count": null,
   "outputs": [],
   "source": [
    "fig2 = plt.figure(figsize=[15,2])\n",
    "\n",
    "plt.title(\"ZTF r-filter Data for \" + asteroid_name)\n",
    "\n",
    "plt.errorbar(cleardata['jd'], cleardata['forcediffimfluxap'], cleardata['forcediffimfluxuncap'], markersize=4, fmt='.',label='Curve-of-growth-corrected aperture photometry')\n",
    "plt.errorbar(cleardata['jd'], cleardata['forcediffimflux'], cleardata['forcediffimfluxunc'], markersize=4, fmt='.', label='PSF-fit photometry')\n",
    "\n",
    "plt.ylabel(\"Differential Flux\")\n",
    "plt.xlabel(\"JD\")\n",
    "plt.gca().xaxis.set_major_formatter(mtick.FuncFormatter(lambda x, pos: '%.2f'%x))\n",
    "\n",
    "plt.legend()\n",
    "\n",
    "if SaveFigs: plt.savefig('ZTF/Figures/'+str(asteroid_id)+'_fig_2.png', bbox_inches='tight')"
   ],
   "metadata": {
    "collapsed": false
   }
  },
  {
   "cell_type": "markdown",
   "source": [
    "### Validating photometric uncertainties and possible rescaling"
   ],
   "metadata": {
    "collapsed": false
   }
  },
  {
   "cell_type": "code",
   "execution_count": null,
   "outputs": [],
   "source": [
    "fig3 = plt.figure(figsize=[15,2])\n",
    "\n",
    "plt.title(\"ZTF r-filter Data for \" + asteroid_name)\n",
    "plt.scatter(cleardata['forcediffimflux'], cleardata['forcediffimfluxunc'], s=4,label='Curve-of-growth-corrected aperture photometry')\n",
    "plt.scatter(cleardata['forcediffimflux'], cleardata['forcediffimfluxunc'], s=4, label='PSF-fit photometry')\n",
    "plt.ylabel(\"Differential Flux Error\")\n",
    "plt.xlabel(\"Differential Flux\")\n",
    "plt.xlim([0, 15000])\n",
    "\n",
    "plt.legend()\n",
    "\n",
    "if SaveFigs: plt.savefig('ZTF/Figures/'+str(asteroid_id)+'_fig_3.png', bbox_inches='tight')"
   ],
   "metadata": {
    "collapsed": false
   }
  },
  {
   "cell_type": "code",
   "execution_count": null,
   "outputs": [],
   "source": [
    "fig4 = plt.figure(figsize=[15,2])\n",
    "\n",
    "plt.title(\"ZTF r-filter Data for \" + asteroid_name)\n",
    "[counts, bins, bars]=plt.hist(cleardata['forcediffimchisq'], bins=200)\n",
    "plt.ylabel(\"Measurements\")\n",
    "plt.xlabel(\"χ$^2$\")\n",
    "plt.xlim([0,40])\n",
    "\n",
    "plt.vlines(1,0,max(counts)+5, color='g', linestyles='--', label=r'$\\chi^2=1$')\n",
    "\n",
    "plt.vlines(np.average(cleardata['forcediffimchisq']),0,max(counts)+5, 'r', linestyles='--', label=r'$\\langle \\chi^2 \\rangle = $' + \"{:.3f}\".format(np.average(cleardata['forcediffimchisq'])))\n",
    "\n",
    "plt.legend()\n",
    "if SaveFigs: plt.savefig('ZTF/Figures/'+str(asteroid_id)+'_fig_4.png', bbox_inches='tight')"
   ],
   "metadata": {
    "collapsed": false
   }
  },
  {
   "cell_type": "code",
   "execution_count": null,
   "outputs": [],
   "source": [
    "if abs(np.average(cleardata['forcediffimchisq'])-1)>0.1:\n",
    "    print('The flux errors need correction.')\n",
    "    pd.options.mode.chained_assignment = None  # default='warn'\n",
    "    cleardata['forcediffimfluxunc']=cleardata['forcediffimfluxunc']*np.sqrt(np.average(cleardata['forcediffimchisq']))\n",
    "    pd.options.mode.chained_assignment = 'warn'\n",
    "    print('Correction is done!')\n",
    "else:\n",
    "    print('The flux errors do not need correction.')"
   ],
   "metadata": {
    "collapsed": false
   }
  },
  {
   "cell_type": "markdown",
   "source": [
    "### Generating differential-photometry lightcurves with non-detections\n",
    "It is assumed you have corrected your differential fluxes ('forcediffimflux') for any non-zero baseline and validated and possibly rescaled the uncertainties ('forcediffimfluxunc'). If the uncertainties are over- or underestimated, your significance levels and hence derived upper limits will be wrong. I.e., “5-sigma” only has meaning if “sigma” is correct, that is, it captures all noise sources that may have corrupted the measurements.\n",
    "The pseudo-code for obtaining calibrated magnitudes is below. This uses the following two parameters:\n",
    "\n",
    "SNT – the signal-to-noise threshold for declaring a measurement a “non-detection” so it can be assigned an upper-limit.\n",
    "SNU – the actual signal-to-noise ratio to use when computing a “SNU-sigma” upper-limit.\n",
    "\n",
    "It is recommended SNT = 3 and SNU = 5. For details on why these were picked, see:\n",
    "<http://web.ipac.caltech.edu/staff/fmasci/home/mystats/UpperLimits_FM2011.pdf>\n"
   ],
   "metadata": {
    "collapsed": false
   }
  },
  {
   "cell_type": "code",
   "execution_count": null,
   "outputs": [],
   "source": [
    "pd.options.mode.chained_assignment = None  # default='warn'\n",
    "#Create new columns\n",
    "cleardata['mag']=''\n",
    "cleardata['magerr']=''\n",
    "cleardata['detection']=''\n",
    "\n",
    "SNT=3\n",
    "SNU=5\n",
    "for i in cleardata.index:\n",
    "    if cleardata['forcediffimflux'][i]/cleardata['forcediffimfluxunc'][i] > SNT :\n",
    "        # we have a “confident” detection, compute and plot mag with error bar:\n",
    "        cleardata['mag'][i]=cleardata['zpdiff'][i]-2.5*np.log10(cleardata['forcediffimflux'][i])\n",
    "        cleardata['magerr'][i]=1.0857* cleardata['forcediffimfluxunc'][i]/cleardata['forcediffimflux'][i]\n",
    "        cleardata['detection'][i]=True\n",
    "    else:\n",
    "        # compute flux upper limit and plot as arrow:\n",
    "        cleardata['mag'][i]=cleardata['zpdiff'][i]-2.5*np.log10(SNU*cleardata['forcediffimfluxunc'][i])\n",
    "        cleardata['magerr'][i]=np.nan\n",
    "        cleardata['detection'][i]=False\n",
    "\n",
    "pd.options.mode.chained_assignment = 'warn'"
   ],
   "metadata": {
    "collapsed": false
   }
  },
  {
   "cell_type": "code",
   "execution_count": null,
   "outputs": [],
   "source": [
    "fig5 = plt.figure(figsize=[15,2])\n",
    "\n",
    "plt.title(\"ZTF r-filter Data for \" + asteroid_name)\n",
    "\n",
    "plt.errorbar(cleardata['jd'][cleardata['detection']==True], cleardata['mag'][cleardata['detection']==True], cleardata['magerr'][cleardata['detection']==True], fmt='.', label='Confident detections')\n",
    "\n",
    "plt.scatter(cleardata['jd'][cleardata['detection']==False], cleardata['mag'][cleardata['detection']==False], s=8, color='r', marker=\"^\", label=\"False detections\")\n",
    "\n",
    "plt.ylabel(\"Calibrated Magnitudes\")\n",
    "plt.xlabel(\"JD\")\n",
    "plt.gca().xaxis.set_major_formatter(mtick.FuncFormatter(lambda x, pos: '%.2f'%x))\n",
    "\n",
    "plt.legend()\n",
    "\n",
    "if SaveFigs: plt.savefig('ZTF/Figures/'+str(asteroid_id)+'_fig_5.png', bbox_inches='tight')"
   ],
   "metadata": {
    "collapsed": false
   }
  },
  {
   "cell_type": "markdown",
   "source": [
    "### Remove false detections"
   ],
   "metadata": {
    "collapsed": false
   }
  },
  {
   "cell_type": "code",
   "execution_count": null,
   "outputs": [],
   "source": [
    "cleardata=cleardata.drop(cleardata[cleardata.detection == False].index)\n",
    "cleardata=cleardata.drop(columns=['detection'])"
   ],
   "metadata": {
    "collapsed": false
   }
  },
  {
   "cell_type": "markdown",
   "source": [
    "### Import alpha angle and distances\n",
    "α: Alpha phase angle, Solar-Target-Earth angle (S-T-O)\n",
    "r: Heliocentric distance of the asteroid\n",
    "Delta: Geocentric distance of the asteroid"
   ],
   "metadata": {
    "collapsed": false
   }
  },
  {
   "cell_type": "code",
   "execution_count": null,
   "outputs": [],
   "source": [
    "#For some reason, Horizons service is not working for a list of more than 77 julian dates.\n",
    "#Set a limit for each Horizons call.\n",
    "lim=74 #It must be <=75.\n",
    "\n",
    "if len(cleardata['jd'])>lim:\n",
    "    n=math.ceil(len(cleardata['jd'])/lim)\n",
    "    start=0\n",
    "    end=lim\n",
    "    for i in range(n):\n",
    "        obj = Horizons(id=str(asteroid_id), location='g@399', epochs=cleardata['jd'][start:end+1].to_list())\n",
    "        if i==0:\n",
    "            alphas=obj.ephemerides()[\"alpha_true\"].tolist()\n",
    "            r=obj.ephemerides()[\"r\"].tolist()\n",
    "            delta=obj.ephemerides()[\"delta\"].tolist()\n",
    "            lt=obj.ephemerides()[\"lighttime\"].tolist()\n",
    "        else:\n",
    "            alphas=alphas + obj.ephemerides()[\"alpha_true\"].tolist()\n",
    "            r=r+obj.ephemerides()[\"r\"].tolist()\n",
    "            delta=delta + obj.ephemerides()[\"delta\"].tolist()\n",
    "            lt=lt+obj.ephemerides()[\"lighttime\"].tolist()\n",
    "\n",
    "        start=end+1\n",
    "        if len(cleardata['jd'])>(end+lim):\n",
    "            end =end+lim\n",
    "        else:\n",
    "            end= len(cleardata['jd'])-1\n",
    "\n",
    "else:\n",
    "    obj = Horizons(id=str(asteroid_id), location='g@399', epochs=cleardata['jd'].to_list())\n",
    "    alphas = obj.ephemerides()[\"alpha_true\"].tolist()\n",
    "    r=obj.ephemerides()[\"r\"].tolist()\n",
    "    delta=obj.ephemerides()[\"delta\"].tolist()\n",
    "    lt=obj.ephemerides()[\"lighttime\"].tolist()\n",
    "\n",
    "cleardata['alpha']=alphas\n",
    "cleardata['r']=r\n",
    "cleardata['delta']=delta\n",
    "cleardata['jd_c']=cleardata['jd']-np.array(lt)/60/24"
   ],
   "metadata": {
    "collapsed": false
   }
  },
  {
   "cell_type": "markdown",
   "source": [
    "### Calculate reduced magnitudes and find outliers"
   ],
   "metadata": {
    "collapsed": false
   }
  },
  {
   "cell_type": "code",
   "execution_count": null,
   "outputs": [],
   "source": [
    "cleardata['Rmag']=cleardata['mag']-5*np.log10(cleardata['r'])-5*np.log10(cleardata['delta'])\n",
    "\n",
    "[JDc, Dmc, DmErrc] = abc.sigclip_magseries(np.array(cleardata['jd'], dtype=float), np.array(cleardata['Rmag'], dtype=float), np.array(cleardata['magerr'], dtype=float), sigclip=[2.8, 2.8], iterative=True, niterations=10000, meanormedian='mean',magsarefluxes=False)\n",
    "\n",
    "pd.options.mode.chained_assignment = None  # default='warn'\n",
    "cleardata['outlier'] = [False] * len(cleardata.index)\n",
    "\n",
    "for i in cleardata.index:\n",
    "    if cleardata['jd'][i] not in JDc: cleardata['outlier'][i] =  True\n",
    "\n",
    "pd.options.mode.chained_assignment = 'warn'"
   ],
   "metadata": {
    "collapsed": false
   }
  },
  {
   "cell_type": "code",
   "execution_count": null,
   "outputs": [],
   "source": [
    "fig6 = plt.figure(figsize=[15,2])\n",
    "\n",
    "plt.title(\"ZTF r-filter Data for \" + asteroid_name)\n",
    "\n",
    "plt.errorbar(cleardata['jd'], cleardata['Rmag'], cleardata['magerr'], fmt='.', zorder=1, label='Data')\n",
    "plt.scatter(cleardata['jd'][cleardata.outlier==True], cleardata['Rmag'][cleardata.outlier==True], marker='x', color='r', zorder=2, label='Outliers')\n",
    "\n",
    "plt.ylabel(\"Reduced Magnitudes\")\n",
    "plt.xlabel(\"JD\")\n",
    "\n",
    "plt. legend()\n",
    "\n",
    "plt.gca().xaxis.set_major_formatter(mtick.FuncFormatter(lambda x, pos: '%.2f'%x))\n",
    "\n",
    "if SaveFigs: plt.savefig('ZTF/Figures/'+str(asteroid_id)+'_fig_6.png', bbox_inches='tight')"
   ],
   "metadata": {
    "collapsed": false
   }
  },
  {
   "cell_type": "markdown",
   "source": [
    "### Define the Apparitions"
   ],
   "metadata": {
    "collapsed": false
   }
  },
  {
   "cell_type": "code",
   "execution_count": null,
   "outputs": [],
   "source": [
    "pd.options.mode.chained_assignment = None  # default='warn'\n",
    "\n",
    "cleardata['apparition']=\"\"\n",
    "T0=cleardata[\"jd\"].iloc[0]\n",
    "app=1\n",
    "for i in cleardata.index:\n",
    "    if (cleardata['jd'][i]-T0)<365:\n",
    "        cleardata['apparition'][i]=app\n",
    "    else:\n",
    "        T0=cleardata['jd'][i]\n",
    "        app+=1\n",
    "        cleardata['apparition'][i]=app\n",
    "\n",
    "pd.options.mode.chained_assignment = 'warn'\n",
    "\n",
    "print(\"Total number of apparitions: \"+str(app))"
   ],
   "metadata": {
    "collapsed": false
   }
  },
  {
   "cell_type": "code",
   "execution_count": null,
   "outputs": [],
   "source": [
    "fig7 = plt.figure(figsize=[8,4])\n",
    "\n",
    "plt.title(\"Number of ZTF r-filter Data per Apparition for \" + asteroid_name)\n",
    "\n",
    "plt.bar(*np.unique(cleardata['apparition'], return_counts=True))\n",
    "plt.ylabel(\"Measurements\")\n",
    "plt.xlabel(\"Apparitions\")\n",
    "plt.xticks(np.arange(1, app+1, 1.0))\n",
    "plt.gca().xaxis.set_major_formatter(mtick.FuncFormatter(lambda x, pos: '%.0f'%x))\n",
    "\n",
    "if SaveFigs: plt.savefig('ZTF/Figures/'+str(asteroid_id)+'_fig_7.png', bbox_inches='tight')"
   ],
   "metadata": {
    "collapsed": false
   }
  },
  {
   "cell_type": "markdown",
   "source": [
    " ### Asteroid phase curve\n",
    "\n",
    "The brightness vs. solar phase angle relation can be fitted with a simple relation:\n",
    "$$f(\\alpha)=A_0 \\cdot e^{- \\alpha / D} - k \\cdot \\alpha +1$$\n",
    "where $α$ is the solar phase angle(the Sun - asteroid - Earth angle) and $A_0$, $D$ and $k$ are free parameters.\n",
    "\n",
    "In cases with a small number of data points (≲30) or a poor sampling of low phase angles ($α \\gtrsim 10^\\o$) the fitting sometimes fails. For these cases we only use the linear part of the phase function for outlier rejection (i.e., we set $A_0=0$).\n"
   ],
   "metadata": {
    "collapsed": false
   }
  },
  {
   "cell_type": "code",
   "execution_count": null,
   "outputs": [],
   "source": [
    "# Phase curve function\n",
    "def phasecurve(x, A_0, D, k):\n",
    "    return A_0*np.exp(-1*(x * np.pi / 360)/D) - k*x +1"
   ],
   "metadata": {
    "collapsed": false
   }
  },
  {
   "cell_type": "code",
   "execution_count": null,
   "outputs": [],
   "source": [
    "fig8, axs = plt.subplots(app, 1, figsize=[10,3*app])\n",
    "A_0=[]\n",
    "D=[]\n",
    "k=[]\n",
    "\n",
    "for i in range(4, app+1):\n",
    "    # curve fit\n",
    "    [popt, pcov] = curve_fit(phasecurve, cleardata['alpha'][(cleardata.apparition==i) & (cleardata.outlier==False)].tolist(), cleardata['Rmag'][(cleardata.apparition==i) & (cleardata.outlier==False)].tolist(), sigma=cleardata['magerr'][(cleardata.apparition==i) & (cleardata.outlier==False)].tolist(), p0=[1., 1., 1.])\n",
    "\n",
    "    print(\"\\nApparition \" + str(i) + \":\")\n",
    "\n",
    "    print(\"A_0 =\", popt[0], \"±\", pcov[0, 0] ** 0.5)\n",
    "    print(\"D =\", popt[1], \"±\", pcov[1, 1] ** 0.5)\n",
    "    print(\"k =\", popt[2], \"±\", pcov[2, 2] ** 0.5)\n",
    "\n",
    "    # summarize the parameter values\n",
    "    A_0.append([popt[0], pcov[0, 0] ** 0.5])\n",
    "    D.append([popt[1], pcov[1, 1] ** 0.5])\n",
    "    k.append([popt[2], pcov[2, 2] ** 0.5])\n",
    "\n",
    "    axs[i-1].scatter(cleardata['alpha'][cleardata.apparition==i], cleardata['Rmag'][cleardata.apparition==i], s=10, color='k')\n",
    "    axs[i-1].scatter(cleardata['alpha'][(cleardata.apparition==i) & (cleardata.outlier==True)], cleardata['Rmag'][(cleardata.apparition==i) & (cleardata.outlier==True)], color='r',  marker='x')\n",
    "\n",
    "\n",
    "\n",
    "    x_line = np.arange(0, 40, 1)\n",
    "    y_line = phasecurve(x_line, popt[0], popt[1], popt[2])\n",
    "    axs[i-1].plot(x_line, y_line, '--', color='red')\n",
    "\n",
    "\n",
    "    axs[i-1].title.set_text(\"Apparition \" + str(i) + \": \" + str(jd2gcal(min(cleardata['jd'][cleardata.apparition==i].tolist()),0)[1]) + \".\" + str(jd2gcal(min(cleardata['jd'][cleardata.apparition==i]),0)[0]) + \" - \" + str(jd2gcal(max(cleardata['jd'][cleardata.apparition==i]),0)[1]) + \".\" + str(jd2gcal(max(cleardata['jd'][cleardata.apparition==i]),0)[0]))\n",
    "\n",
    "    axs[i-1].set_xlabel(\"α (deg)\")\n",
    "    axs[i-1].set_ylabel(\"Reduced Magnitude\")\n",
    "\n",
    "    axs[i-1].set_xlim(0, 30)\n",
    "\n",
    "    axs[i-1].invert_yaxis()\n",
    "    axs[i-1].text(0.01,0.05, '$f(α)=A_0 \\cdot e^{- α / D} - k \\cdot α +1$' + \"\\n$Α_0$ =\" + \"{:.5f}\".format(popt[0]) + \" ± \" + \"{:.5f}\".format(pcov[0, 0] ** 0.5) + \"\\nD =\" + \"{:.5f}\".format(popt[1]) + \" ± \" + \"{:.5f}\".format(pcov[1, 1] ** 0.5) + \"\\nk =\" + \"{:.5f}\".format(popt[2]) + \" ± \" + \"{:.5f}\".format(pcov[2, 2] ** 0.5),  transform=axs[i-1].transAxes)\n",
    "plt.tight_layout()\n",
    "\n",
    "if SaveFigs: plt.savefig('ZTF/Figures/'+str(asteroid_id)+'_fig_8.png', bbox_inches='tight')"
   ],
   "metadata": {
    "collapsed": false
   }
  },
  {
   "cell_type": "markdown",
   "source": [
    "### Convert to relative fluxes\n",
    "\n",
    "We transform into fluxes utilising the Pogson equation and, for convenience, setting the zero magnitude to 15."
   ],
   "metadata": {
    "collapsed": false
   }
  },
  {
   "cell_type": "code",
   "execution_count": null,
   "outputs": [],
   "source": [
    "cleardata['rel_flux']=10**(-0.4*(cleardata['Rmag']-15))\n",
    "cleardata['rel_flux_err']=abs(0.4*np.log(10)*(-1*10**(-0.4*(cleardata['Rmag']-15)))*cleardata['magerr'])\n",
    "pd.options.mode.chained_assignment = None  # default='warn'\n",
    "\n",
    "\n",
    "#Align data\n",
    "medians=0\n",
    "for i in range(1,app+1):\n",
    "    medians+=np.median(cleardata['rel_flux'][(cleardata.apparition==i) & (cleardata.outlier==False)])\n",
    "\n",
    "avrg_medians=medians/app\n",
    "\n",
    "for i in range(1,app+1):\n",
    "    cleardata['rel_flux'][cleardata.apparition==i]=cleardata['rel_flux'][cleardata.apparition==i]+(avrg_medians-np.median(cleardata['rel_flux'][(cleardata.apparition==i)& (cleardata.outlier==False)]))\n",
    "\n",
    "\n",
    "#[A, RFc, RFEc] = abc.sigclip_magseries(np.array(cleardata.sort_values(by=['alpha'], ascending=True)['alpha'], dtype=float), np.array(cleardata.sort_values(by=['alpha'], ascending=True)['rel_flux'], dtype=float), np.array(cleardata.sort_values(by=['alpha'], ascending=True)['rel_flux_err'], dtype=float), sigclip=[3, 3], iterative=True, niterations=10000, meanormedian='mean',magsarefluxes=True)\n",
    "\n",
    "\n",
    "#for i in cleardata.index:\n",
    "#    if cleardata['alpha'][i] not in A: cleardata['outlier'][i] =  True\n",
    "\n",
    "pd.options.mode.chained_assignment = 'warn'"
   ],
   "metadata": {
    "collapsed": false
   }
  },
  {
   "cell_type": "code",
   "execution_count": null,
   "outputs": [],
   "source": [
    "fig9 = plt.figure(figsize=[15,2])\n",
    "\n",
    "plt.title(\"ZTF r-filter Data for \" + asteroid_name)\n",
    "\n",
    "plt.errorbar(cleardata['jd'], cleardata['rel_flux'], cleardata['rel_flux_err'], fmt='.', zorder=1, label='Data')\n",
    "plt.scatter(cleardata['jd'][cleardata.outlier==True], cleardata['rel_flux'][cleardata.outlier==True], marker='x', color='r', zorder=2, label='Outliers')\n",
    "\n",
    "plt.ylabel(\"Relative Flux\")\n",
    "plt.xlabel(\"JD\")\n",
    "\n",
    "plt. legend()\n",
    "\n",
    "plt.gca().xaxis.set_major_formatter(mtick.FuncFormatter(lambda x, pos: '%.2f'%x))\n",
    "\n",
    "if SaveFigs: plt.savefig('ZTF/Figures/'+str(asteroid_id)+'_fig_9.png', bbox_inches='tight')"
   ],
   "metadata": {
    "collapsed": false
   }
  },
  {
   "cell_type": "code",
   "execution_count": null,
   "outputs": [],
   "source": [
    "# curve fit\n",
    "[popt, pcov] = curve_fit(phasecurve, cleardata['alpha'][cleardata.outlier==False].tolist(), cleardata['rel_flux'][cleardata.outlier==False].tolist(), sigma=cleardata['magerr'][cleardata.outlier==False].tolist(), p0=[1., 1., 1.])\n",
    "\n",
    "print(\"A_0 =\", popt[0], \"±\", pcov[0, 0] ** 0.5)\n",
    "print(\"D =\", popt[1], \"±\", pcov[1, 1] ** 0.5)\n",
    "print(\"k =\", popt[0], \"±\", pcov[2, 2] ** 0.5)"
   ],
   "metadata": {
    "collapsed": false
   }
  },
  {
   "cell_type": "code",
   "execution_count": null,
   "outputs": [],
   "source": [
    "cleardata['residuals']=cleardata['rel_flux'] - phasecurve(cleardata['alpha'], popt[0], popt[1], popt[2])\n",
    "[A, RFc, RFEc] = abc.sigclip_magseries(np.array(cleardata.sort_values(by=['alpha'], ascending=True)['alpha'], dtype=float), np.array(cleardata.sort_values(by=['alpha'], ascending=True)['residuals'], dtype=float), np.array(cleardata.sort_values(by=['alpha'], ascending=True)['rel_flux_err'], dtype=float), sigclip=[5, 5], iterative=True, niterations=10000, meanormedian='mean',magsarefluxes=True)\n",
    "\n",
    "pd.options.mode.chained_assignment = None  # default='warn'\n",
    "for i in cleardata.index:\n",
    "    if cleardata['alpha'][i] not in A: cleardata['outlier'][i] =  True\n",
    "    if cleardata['residuals'][i]>0.475: cleardata['outlier'][i] =  True #0.7 mag\n",
    "    if cleardata['magerr'][i]>0.15: cleardata['outlier'][i] = True\n",
    "\n",
    "pd.options.mode.chained_assignment = 'warn'"
   ],
   "metadata": {
    "collapsed": false
   }
  },
  {
   "cell_type": "code",
   "execution_count": null,
   "outputs": [],
   "source": [
    "fig10, axs = plt.subplots(app, 1, figsize=[10,3*app])\n",
    "\n",
    "for i in range(1, app+1):\n",
    "\n",
    "\n",
    "    axs[i-1].scatter(cleardata['alpha'][cleardata.apparition==i], cleardata['rel_flux'][cleardata.apparition==i], s=10, color='k')\n",
    "    axs[i-1].scatter(cleardata['alpha'][(cleardata.apparition==i) & (cleardata.outlier==True)], cleardata['rel_flux'][(cleardata.apparition==i) & (cleardata.outlier==True)], color='r',  marker='x')\n",
    "\n",
    "\n",
    "\n",
    "    x_line = np.arange(0, 40, 1)\n",
    "    y_line = phasecurve(x_line, popt[0], popt[1], popt[2])\n",
    "    axs[i-1].plot(x_line, y_line, '--', color='red')\n",
    "\n",
    "\n",
    "    axs[i-1].title.set_text(\"Apparition \" + str(i) + \": \" + str(jd2gcal(min(cleardata['jd'][cleardata.apparition==i].tolist()),0)[1]) + \".\" + str(jd2gcal(min(cleardata['jd'][cleardata.apparition==i]),0)[0]) + \" - \" + str(jd2gcal(max(cleardata['jd'][cleardata.apparition==i]),0)[1]) + \".\" + str(jd2gcal(max(cleardata['jd'][cleardata.apparition==i]),0)[0]))\n",
    "\n",
    "    axs[i-1].set_xlabel(\"α (deg)\")\n",
    "    axs[i-1].set_ylabel(\"Relative Flux\")\n",
    "\n",
    "    axs[i-1].set_xlim(0, 30)\n",
    "\n",
    "    axs[i-1].text(0.01,0.05, '$f(α)=A_0 \\cdot e^{- α / D} - k \\cdot α +1$' + \"\\n$Α_0$ =\" + \"{:.5f}\".format(popt[0]) + \" ± \" + \"{:.5f}\".format(pcov[0, 0] ** 0.5) + \"\\nD =\" + \"{:.5f}\".format(popt[1]) + \" ± \" + \"{:.5f}\".format(pcov[1, 1] ** 0.5) + \"\\nk =\" + \"{:.5f}\".format(popt[2]) + \" ± \" + \"{:.5f}\".format(pcov[2, 2] ** 0.5),  transform=axs[i-1].transAxes)\n",
    "plt.tight_layout()\n",
    "\n",
    "if SaveFigs: plt.savefig('ZTF/Figures/'+str(asteroid_id)+'_fig_10.png', bbox_inches='tight')"
   ],
   "metadata": {
    "collapsed": false
   }
  },
  {
   "cell_type": "markdown",
   "source": [
    "### Save Dataframe to a pickle file\n",
    "This file it will be used in order to define the weight with all sparse data."
   ],
   "metadata": {
    "collapsed": false
   }
  },
  {
   "cell_type": "code",
   "execution_count": null,
   "outputs": [],
   "source": [
    "SavedData=cleardata[['jd', 'rel_flux', 'rel_flux_err', 'alpha']][cleardata.outlier==False]\n",
    "pd.options.mode.chained_assignment = None  # default='warn'\n",
    "SavedData['observatory']='ZTF'\n",
    "SavedData['apparition']=cleardata['apparition'][cleardata.outlier==False]\n",
    "SavedData['rel_flux']=SavedData['rel_flux']-np.average(SavedData['rel_flux'])+1\n",
    "pd.options.mode.chained_assignment = 'warn'\n",
    "if SaveFiles: SavedData.to_pickle(\"ZTF/Pickles/\"+str(asteroid_id)+\".pkl\")"
   ],
   "metadata": {
    "collapsed": false
   }
  },
  {
   "cell_type": "markdown",
   "source": [
    "# The end"
   ],
   "metadata": {
    "collapsed": false
   }
  }
 ],
 "metadata": {
  "kernelspec": {
   "display_name": "Python 3",
   "language": "python",
   "name": "python3"
  },
  "language_info": {
   "codemirror_mode": {
    "name": "ipython",
    "version": 2
   },
   "file_extension": ".py",
   "mimetype": "text/x-python",
   "name": "python",
   "nbconvert_exporter": "python",
   "pygments_lexer": "ipython2",
   "version": "2.7.6"
  }
 },
 "nbformat": 4,
 "nbformat_minor": 0
}
